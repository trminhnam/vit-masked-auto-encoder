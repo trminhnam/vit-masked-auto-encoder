{
 "cells": [
  {
   "cell_type": "code",
   "execution_count": 3,
   "metadata": {},
   "outputs": [],
   "source": [
    "import numpy as np\n",
    "import torch\n",
    "from model import ViT\n",
    "\n",
    "\n",
    "def get_num_params(model):\n",
    "    num_params = sum(p.numel() for p in model.parameters() if p.requires_grad)\n",
    "    return num_params\n",
    "\n",
    "\n",
    "def assert_tensors_equal(t1, t2):\n",
    "    assert t1.shape == t2.shape\n",
    "    assert t1.dtype == t2.dtype\n",
    "    a1 = t1.detach().numpy()\n",
    "    a2 = t2.detach().numpy()\n",
    "    assert np.allclose(a1, a2)"
   ]
  },
  {
   "cell_type": "code",
   "execution_count": 5,
   "metadata": {},
   "outputs": [
    {
     "name": "stdout",
     "output_type": "stream",
     "text": [
      "cls_tokens.shape: torch.Size([1, 1, 768])\n",
      "x.shape: torch.Size([1, 9, 768])\n"
     ]
    }
   ],
   "source": [
    "img_size = 224\n",
    "config = {\n",
    "    \"img_size\": img_size,\n",
    "    \"patch_size\": img_size // 3,\n",
    "    \"in_channels\": 3,\n",
    "    \"num_classes\": 1000,\n",
    "    \"embedding_dim\": 768,\n",
    "    \"depth\": 12,\n",
    "    \"n_heads\": 12,\n",
    "    \"mlp_ratio\": 4.0,\n",
    "    \"qkv_bias\": True,\n",
    "    \"attn_p\": 0.0,\n",
    "    \"p\": 0.0,\n",
    "}\n",
    "\n",
    "model = ViT(**config)\n",
    "model.eval()\n",
    "\n",
    "inputs = torch.randn(1, 3, 224, 224)\n",
    "mask = torch.from_numpy(np.array([[1, 0, 1, 0, 1, 0, 0, 1, 0]]))\n",
    "outputs = model(inputs, q_mask=mask)\n",
    "\n"
   ]
  },
  {
   "cell_type": "code",
   "execution_count": null,
   "metadata": {},
   "outputs": [],
   "source": []
  },
  {
   "cell_type": "code",
   "execution_count": null,
   "metadata": {},
   "outputs": [],
   "source": []
  }
 ],
 "metadata": {
  "kernelspec": {
   "display_name": "aio",
   "language": "python",
   "name": "python3"
  },
  "language_info": {
   "codemirror_mode": {
    "name": "ipython",
    "version": 3
   },
   "file_extension": ".py",
   "mimetype": "text/x-python",
   "name": "python",
   "nbconvert_exporter": "python",
   "pygments_lexer": "ipython3",
   "version": "3.8.16"
  },
  "orig_nbformat": 4,
  "vscode": {
   "interpreter": {
    "hash": "c4b1d2403d5bedfc2b499b2d1212ae0437b5f8ebf43026ed45c1b9608ddeb20c"
   }
  }
 },
 "nbformat": 4,
 "nbformat_minor": 2
}
